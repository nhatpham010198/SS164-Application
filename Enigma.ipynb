{
 "cells": [
  {
   "cell_type": "markdown",
   "metadata": {},
   "source": [
    "For more information about the project as well as how enigma machine works, please refer to the following link\n",
    "1. https://www.youtube.com/channel/UCqOBBevVHGjv5xatqvjSv2Q (instruction videos are uploaded on this channel)\n",
    "2. https://inst.eecs.berkeley.edu/~cs61b/fa18/materials/proj/proj1/index.html (Official website of the project description from UC Berkeley)"
   ]
  },
  {
   "cell_type": "code",
   "execution_count": null,
   "metadata": {},
   "outputs": [],
   "source": [
    "#Define the permutation process that takes plugboard, initial setting as parameters\n",
    "def interchange(charac,list1,list2):\n",
    "    if charac in list1:\n",
    "        return list2[list1.index(charac)]\n",
    "    if charac in list2:\n",
    "        return list1[list2.index(charac)]\n",
    "    else:\n",
    "        return(charac)"
   ]
  },
  {
   "cell_type": "code",
   "execution_count": 2,
   "metadata": {},
   "outputs": [],
   "source": [
    "mappinglist = [[\"(AELTPHQXRU)\",\"(BKNW)\",\"(CMOY)\",\"(DFG)\",\"(IV)\",\"(JZ)\",\"(S)\"],\n",
    "               ['(AEPLIYWCOXMRFZBSTGJQNH)','(DV)', '(KU)'],\n",
    "               ['(ABDHPEJT)','(CFLVMZOYQIRWUKXSG)','(N)'],\n",
    "               ['(ALBEVFCYODJWUGNMQTZSKPR)','(HIX)'],\n",
    "               ['(AE)', '(BN)', '(CK)', '(DQ)', '(FU)', '(GY)', '(HW)', '(IJ)',\n",
    "                '(LO)', '(MP)', '(RX)', '(SZ)', '(TV)']]\n",
    "def contract(letter, order):\n",
    "    mapping = mappinglist[5 - order]\n",
    "    listing = \"\"\n",
    "    for i in range(len(mapping)):\n",
    "        listing += mapping[i]\n",
    "    if list(listing)[listing.find(letter)+1] != ')':\n",
    "        return(list(listing)[listing.find(letter)+1])\n",
    "    else:\n",
    "        x = [letter in i for i in mapping]\n",
    "        \n",
    "        m = [i for i in x if i != -1][0]\n",
    "        return(list(mapping[x.index(1)])[1])\n",
    "    \n",
    "def reverse_contract(letter, order):\n",
    "    mapping = mappinglist[5 - order]\n",
    "    listing = \"\"\n",
    "    for i in range(len(mapping)):\n",
    "        listing += mapping[i]\n",
    "    if list(listing)[listing.find(letter)-1] != '(':\n",
    "        return(list(listing)[listing.find(letter)-1])\n",
    "    else:\n",
    "        x = [letter in i for i in mapping]\n",
    "        \n",
    "        m = [i for i in x if i != -1][0]\n",
    "        return(list(mapping[x.index(1)])[-2])\n"
   ]
  },
  {
   "cell_type": "code",
   "execution_count": 3,
   "metadata": {},
   "outputs": [],
   "source": [
    "notch = ['V', 'J', 'Q']\n",
    "#update setting\n",
    "def update_setting(setting):\n",
    "    #list_setting is defined globally\n",
    "    extract_setting = list(setting[-1]) #rot = 1 -> not setting -> probably change the index to 2-5 bc rot 1 does nothing\n",
    "    compare = [extract_setting[1:][i] == notch[i] for i in range(len(notch))]\n",
    "    #double step\n",
    "    for i in range(0,3):\n",
    "        if compare[i] == 1:\n",
    "            extract_setting[i+1] = chr((ord(extract_setting[i+1])+1-65)%26+65)\n",
    "            extract_setting[i] = chr((ord(extract_setting[i])+1-65)%26+65)\n",
    "        if compare[i] == 0:\n",
    "            if i == 2:\n",
    "                extract_setting[i+1] = chr((ord(extract_setting[i+1])+1-65)%26+65)\n",
    "    \n",
    "    compress = ''\n",
    "    for i in extract_setting:\n",
    "        compress += i\n",
    "    return(compress)        "
   ]
  },
  {
   "cell_type": "code",
   "execution_count": 4,
   "metadata": {},
   "outputs": [],
   "source": [
    "#translate input to get output \n",
    "#translate input to get output\n",
    "def rotor(press,setting,list1,list2):\n",
    "    list_inp = [interchange(press,list1,list2)] #sth = input for the enigma to enrypt \n",
    "    list_out = []\n",
    "    for i in range(5,2,-1):\n",
    "        rot_setting = list(setting)[i-2] #index depends on output of setting\n",
    "        inp = chr((ord(list_inp[-1]) - 65 + ord(rot_setting) - 65)%26 +65)\n",
    "        intermediate = contract(inp, i)\n",
    "        outp = chr((ord(intermediate) - ord(rot_setting))%26 + 65)\n",
    "        list_inp.append(outp)\n",
    "    list_inp.append(contract(list_inp[-1],2))\n",
    "    list_inp.append(contract(list_inp[-1],1))\n",
    "    list_inp.append(reverse_contract(list_inp[-1],2))\n",
    "    for i in range(3,6):\n",
    "        rot_setting = list(setting)[i-2]\n",
    "        inp = chr((ord(list_inp[-1]) - 65 + ord(rot_setting) - 65)%26 +65)\n",
    "        intermediate = reverse_contract(inp, i)\n",
    "        outp = chr((ord(intermediate) - ord(rot_setting))%26 + 65)\n",
    "        list_inp.append(outp)\n",
    "    return(interchange(list_inp[-1],list1,list2))"
   ]
  },
  {
   "cell_type": "code",
   "execution_count": 11,
   "metadata": {},
   "outputs": [
    {
     "name": "stdout",
     "output_type": "stream",
     "text": [
      "the initial setting of the machine is:AXLE\n",
      "interchangerd pairs are:(HQ) (EX) (IP) (TR) (BY)\n",
      "encrypted content is:Hi, I am Nhat Pham, M21. I appreciate your time on my application and hope to hear back from you soon.\n",
      "decrypted message is: UAJKJLAOXAKSCHOJBDAYRPDNWCWZRCFYQYQBLIJCDFILGCNUXUQNSPPGQZEAJNNIYUOPEXUHJJLPKCVXHJTZPTGTUSIRBYVDLRROAD\n"
     ]
    }
   ],
   "source": [
    "def enigma():\n",
    "    initial_setting = input('the initial setting of the machine is:')\n",
    "    list_setting = [initial_setting]\n",
    "    \n",
    "    list1, list2 = [], []\n",
    "    plugboard = input('interchangerd pairs are:')\n",
    "    for i in range(len(list(plugboard))-1):\n",
    "        if list(plugboard)[i-1]=='(':\n",
    "            list1.append(list(plugboard)[i])\n",
    "        if list(plugboard)[i+1]==')':\n",
    "            list2.append(list(plugboard)[i])\n",
    "        else:\n",
    "            continue\n",
    "            \n",
    "    text = input('encrypted content is:').capitalize()\n",
    "    decryption = '' \n",
    "    for press in list(text):\n",
    "        list_setting.append(update_setting(list_setting))\n",
    "        decryption += rotor(press, list_setting[-1],list1,list2)\n",
    "#         print(press, list_setting[-1], rotor(press, list_setting[-1],list1,list2)) #print out the process step by step\n",
    "    print('decrypted message is:', decryption)\n",
    "enigma()    "
   ]
  },
  {
   "cell_type": "markdown",
   "metadata": {},
   "source": [
    "**Information aobut the setting can be change but should be remained in the following structure**\n",
    "* the initial setting of the machine is:AXLE\n",
    "* interchangerd pairs are:(HQ) (EX) (IP) (TR) (BY)"
   ]
  }
 ],
 "metadata": {
  "kernelspec": {
   "display_name": "Python 3",
   "language": "python",
   "name": "python3"
  },
  "language_info": {
   "codemirror_mode": {
    "name": "ipython",
    "version": 3
   },
   "file_extension": ".py",
   "mimetype": "text/x-python",
   "name": "python",
   "nbconvert_exporter": "python",
   "pygments_lexer": "ipython3",
   "version": "3.7.4"
  }
 },
 "nbformat": 4,
 "nbformat_minor": 2
}
